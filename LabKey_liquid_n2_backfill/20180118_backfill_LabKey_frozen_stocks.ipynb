{
 "cells": [
  {
   "cell_type": "code",
   "execution_count": 9,
   "metadata": {
    "collapsed": true
   },
   "outputs": [],
   "source": [
    "import pandas as pd\n",
    "import numpy as np\n",
    "import os\n",
    "import matplotlib.pyplot as plt\n",
    "import csv\n",
    "import glob\n",
    "from numpy.random import rand\n",
    "from matplotlib.colors import ListedColormap\n",
    "from matplotlib.colors import from_levels_and_colors\n",
    "import matplotlib.patches as mpatches\n",
    "import hashlib\n",
    "from matplotlib import cm\n",
    "%matplotlib inline\n",
    "\n",
    "import seaborn as sns"
   ]
  },
  {
   "cell_type": "code",
   "execution_count": 61,
   "metadata": {},
   "outputs": [
    {
     "data": {
      "text/plain": [
       "Index([u'DewerID', u'RowID', u'1', u'2', u'3', u'4', u'5', u'6', u'7', u'8',\n",
       "       u'9', u'10', u'Protein_FP', u'Date', u'Passage', u'NumCells', u'Notes',\n",
       "       u'Protein_FP2', u'Date2', u'Passage2', u'NumCells2'],\n",
       "      dtype='object')"
      ]
     },
     "execution_count": 61,
     "metadata": {},
     "output_type": "execute_result"
    }
   ],
   "source": [
    "df=pd.read_csv('FrozenCellInventory_20171110_v3.csv')\n",
    "\n",
    "boxes = df.groupby('DewerID')\n",
    "\n",
    "df.columns\n"
   ]
  },
  {
   "cell_type": "code",
   "execution_count": 85,
   "metadata": {},
   "outputs": [
    {
     "name": "stdout",
     "output_type": "stream",
     "text": [
      "AICS017\n",
      "Desmoplakin mEGFP\n",
      "AICS017\n",
      "Desmoplakin mEGFP\n",
      "AICS005\n",
      "Paxillin EGFP\n",
      "AICS005\n",
      "Paxillin EGFP\n",
      "AICS005\n",
      "Paxillin EGFP\n",
      "AICS005\n",
      "Paxillin EGFP\n",
      "AICS005\n",
      "Paxillin EGFP\n",
      "AICS010\n",
      "Sec61beta mEGFP\n",
      "AICS014\n",
      "Fibrillarin mEGFP\n",
      "AICS014\n",
      "Fibrillarin mEGFP\n"
     ]
    }
   ],
   "source": [
    "test_box = boxes.get_group('Assay Development Dewer 577 - Tower 1, Box B')\n",
    "\n",
    "test_box_array = test_box.as_matrix(columns=['1','2','3','4','5','6','7','8','9','10'])\n",
    "\n",
    "# print test_box.Protein_FP.iloc[1] \n",
    "\n",
    "\n",
    "# print test_box_array[0][:9]\n",
    "\n",
    "\n",
    "# print test_box_array[:-1,9]\n",
    "# final_column_list = test_box_array[:-1,9]\n",
    "\n",
    "# print all(x==final_column_list[0] for x in final_column_list) \n",
    "\n",
    "labkey_data = pd.DataFrame(columns=columns_for_labkey)\n",
    "\n",
    "if all(x==final_column_list[0] for x in final_column_list):\n",
    "    for n in range(len(test_box_array)):\n",
    "#         print test_box_array[n][:9]\n",
    "        cell_line_number = test_box_array[n][:9][1].split(' ')[0]\n",
    "        print cell_line_number\n",
    "        print test_box.Protein_FP.iloc[n] \n",
    "#         print test_box.Protein_FP.iloc[n]\n",
    "        \n",
    "\n",
    "    \n"
   ]
  },
  {
   "cell_type": "code",
   "execution_count": 44,
   "metadata": {
    "collapsed": true
   },
   "outputs": [],
   "source": [
    "columns_for_labkey = ['Cell Batch', 'Category', 'Cell Line', 'Gene Edits', 'Clone', 'crRNA Batch',\n",
    "                      'Passage', 'Stage', 'Barcode', 'Stored', 'Dewar', 'Rack', 'Box', 'Slot', 'Notes', 'Available']"
   ]
  },
  {
   "cell_type": "code",
   "execution_count": null,
   "metadata": {
    "collapsed": true
   },
   "outputs": [],
   "source": []
  }
 ],
 "metadata": {
  "kernelspec": {
   "display_name": "Python 2",
   "language": "python",
   "name": "python2"
  },
  "language_info": {
   "codemirror_mode": {
    "name": "ipython",
    "version": 2
   },
   "file_extension": ".py",
   "mimetype": "text/x-python",
   "name": "python",
   "nbconvert_exporter": "python",
   "pygments_lexer": "ipython2",
   "version": "2.7.13"
  }
 },
 "nbformat": 4,
 "nbformat_minor": 2
}
